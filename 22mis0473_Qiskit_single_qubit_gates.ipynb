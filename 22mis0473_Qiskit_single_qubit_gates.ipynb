{
  "nbformat": 4,
  "nbformat_minor": 0,
  "metadata": {
    "colab": {
      "provenance": []
    },
    "kernelspec": {
      "name": "python3",
      "display_name": "Python 3"
    },
    "language_info": {
      "name": "python"
    }
  },
  "cells": [
    {
      "cell_type": "code",
      "source": [
        "!pip install qiskit qiskit-aer --upgrade"
      ],
      "metadata": {
        "id": "Mx6284lurNt1",
        "colab": {
          "base_uri": "https://localhost:8080/"
        },
        "outputId": "391662c1-125c-47be-f537-2c3bfb561317"
      },
      "execution_count": 1,
      "outputs": [
        {
          "output_type": "stream",
          "name": "stdout",
          "text": [
            "Collecting qiskit\n",
            "  Downloading qiskit-2.2.1-cp39-abi3-manylinux2014_x86_64.manylinux_2_17_x86_64.whl.metadata (12 kB)\n",
            "Collecting qiskit-aer\n",
            "  Downloading qiskit_aer-0.17.2-cp312-cp312-manylinux_2_17_x86_64.manylinux2014_x86_64.whl.metadata (8.3 kB)\n",
            "Collecting rustworkx>=0.15.0 (from qiskit)\n",
            "  Downloading rustworkx-0.17.1-cp39-abi3-manylinux_2_17_x86_64.manylinux2014_x86_64.whl.metadata (10 kB)\n",
            "Requirement already satisfied: numpy<3,>=1.17 in /usr/local/lib/python3.12/dist-packages (from qiskit) (2.0.2)\n",
            "Requirement already satisfied: scipy>=1.5 in /usr/local/lib/python3.12/dist-packages (from qiskit) (1.16.2)\n",
            "Requirement already satisfied: dill>=0.3 in /usr/local/lib/python3.12/dist-packages (from qiskit) (0.3.8)\n",
            "Collecting stevedore>=3.0.0 (from qiskit)\n",
            "  Downloading stevedore-5.5.0-py3-none-any.whl.metadata (2.2 kB)\n",
            "Requirement already satisfied: typing-extensions in /usr/local/lib/python3.12/dist-packages (from qiskit) (4.15.0)\n",
            "Requirement already satisfied: psutil>=5 in /usr/local/lib/python3.12/dist-packages (from qiskit-aer) (5.9.5)\n",
            "Requirement already satisfied: python-dateutil>=2.8.0 in /usr/local/lib/python3.12/dist-packages (from qiskit-aer) (2.9.0.post0)\n",
            "Requirement already satisfied: six>=1.5 in /usr/local/lib/python3.12/dist-packages (from python-dateutil>=2.8.0->qiskit-aer) (1.17.0)\n",
            "Downloading qiskit-2.2.1-cp39-abi3-manylinux2014_x86_64.manylinux_2_17_x86_64.whl (8.0 MB)\n",
            "\u001b[2K   \u001b[90m━━━━━━━━━━━━━━━━━━━━━━━━━━━━━━━━━━━━━━━━\u001b[0m \u001b[32m8.0/8.0 MB\u001b[0m \u001b[31m52.2 MB/s\u001b[0m eta \u001b[36m0:00:00\u001b[0m\n",
            "\u001b[?25hDownloading qiskit_aer-0.17.2-cp312-cp312-manylinux_2_17_x86_64.manylinux2014_x86_64.whl (12.4 MB)\n",
            "\u001b[2K   \u001b[90m━━━━━━━━━━━━━━━━━━━━━━━━━━━━━━━━━━━━━━━━\u001b[0m \u001b[32m12.4/12.4 MB\u001b[0m \u001b[31m104.3 MB/s\u001b[0m eta \u001b[36m0:00:00\u001b[0m\n",
            "\u001b[?25hDownloading rustworkx-0.17.1-cp39-abi3-manylinux_2_17_x86_64.manylinux2014_x86_64.whl (2.2 MB)\n",
            "\u001b[2K   \u001b[90m━━━━━━━━━━━━━━━━━━━━━━━━━━━━━━━━━━━━━━━━\u001b[0m \u001b[32m2.2/2.2 MB\u001b[0m \u001b[31m80.2 MB/s\u001b[0m eta \u001b[36m0:00:00\u001b[0m\n",
            "\u001b[?25hDownloading stevedore-5.5.0-py3-none-any.whl (49 kB)\n",
            "\u001b[2K   \u001b[90m━━━━━━━━━━━━━━━━━━━━━━━━━━━━━━━━━━━━━━━━\u001b[0m \u001b[32m49.5/49.5 kB\u001b[0m \u001b[31m4.0 MB/s\u001b[0m eta \u001b[36m0:00:00\u001b[0m\n",
            "\u001b[?25hInstalling collected packages: stevedore, rustworkx, qiskit, qiskit-aer\n",
            "Successfully installed qiskit-2.2.1 qiskit-aer-0.17.2 rustworkx-0.17.1 stevedore-5.5.0\n"
          ]
        }
      ]
    },
    {
      "cell_type": "code",
      "execution_count": 2,
      "metadata": {
        "id": "VPOwLacGrCdU",
        "colab": {
          "base_uri": "https://localhost:8080/"
        },
        "outputId": "baad8fd0-e59c-4539-a3fa-6fa35e230fc3"
      },
      "outputs": [
        {
          "output_type": "stream",
          "name": "stdout",
          "text": [
            "Quantum Circuit:\n",
            "        ┌───┐┌───┐┌───┐┌───┐┌─────────┐ ░ ┌─┐\n",
            "     q: ┤ X ├┤ H ├┤ S ├┤ T ├┤ Rz(0.5) ├─░─┤M├\n",
            "        └───┘└───┘└───┘└───┘└─────────┘ ░ └╥┘\n",
            "   c: 1/═══════════════════════════════════╬═\n",
            "                                           ║ \n",
            "meas: 1/═══════════════════════════════════╩═\n",
            "                                           0 \n",
            "\n",
            "Measurement Counts: {'1 0': 510, '0 0': 514}\n"
          ]
        }
      ],
      "source": [
        "from qiskit import QuantumCircuit, transpile\n",
        "from qiskit_aer import AerSimulator\n",
        "\n",
        "# Initialize simulator\n",
        "sim = AerSimulator()\n",
        "\n",
        "# Create a single-qubit circuit with one classical bit\n",
        "qc = QuantumCircuit(1, 1)\n",
        "\n",
        "# --- Apply sequence of single-qubit gates ---\n",
        "qc.x(0)        # Pauli-X (NOT gate)\n",
        "qc.h(0)        # Hadamard (superposition)\n",
        "qc.s(0)        # Phase gate (π/2)\n",
        "qc.t(0)        # T gate (π/4)\n",
        "qc.rz(0.5, 0)  # Z-axis rotation by 0.5 radians\n",
        "\n",
        "# Measure final state\n",
        "qc.measure_all()\n",
        "\n",
        "# Display circuit\n",
        "print(\"Quantum Circuit:\")\n",
        "print(qc.draw())\n",
        "\n",
        "# --- Run simulation ---\n",
        "compiled = transpile(qc, sim)\n",
        "result = sim.run(compiled, shots=1024).result()\n",
        "\n",
        "# --- Display results ---\n",
        "counts = result.get_counts()\n",
        "print(\"\\nMeasurement Counts:\", counts)\n"
      ]
    },
    {
      "cell_type": "code",
      "source": [
        "!pip install qiskit qiskit-aer --upgrade\n",
        "\n",
        "from qiskit import QuantumCircuit, transpile\n",
        "from qiskit_aer import AerSimulator\n",
        "from math import pi\n",
        "\n",
        "# Initialize simulator\n",
        "sim = AerSimulator()\n"
      ],
      "metadata": {
        "colab": {
          "base_uri": "https://localhost:8080/"
        },
        "id": "8nOqNcgC6lad",
        "outputId": "c5fed1f7-1eb2-4861-9c4a-38810f6b57eb"
      },
      "execution_count": 3,
      "outputs": [
        {
          "output_type": "stream",
          "name": "stdout",
          "text": [
            "Requirement already satisfied: qiskit in /usr/local/lib/python3.12/dist-packages (2.2.1)\n",
            "Requirement already satisfied: qiskit-aer in /usr/local/lib/python3.12/dist-packages (0.17.2)\n",
            "Requirement already satisfied: rustworkx>=0.15.0 in /usr/local/lib/python3.12/dist-packages (from qiskit) (0.17.1)\n",
            "Requirement already satisfied: numpy<3,>=1.17 in /usr/local/lib/python3.12/dist-packages (from qiskit) (2.0.2)\n",
            "Requirement already satisfied: scipy>=1.5 in /usr/local/lib/python3.12/dist-packages (from qiskit) (1.16.2)\n",
            "Requirement already satisfied: dill>=0.3 in /usr/local/lib/python3.12/dist-packages (from qiskit) (0.3.8)\n",
            "Requirement already satisfied: stevedore>=3.0.0 in /usr/local/lib/python3.12/dist-packages (from qiskit) (5.5.0)\n",
            "Requirement already satisfied: typing-extensions in /usr/local/lib/python3.12/dist-packages (from qiskit) (4.15.0)\n",
            "Requirement already satisfied: psutil>=5 in /usr/local/lib/python3.12/dist-packages (from qiskit-aer) (5.9.5)\n",
            "Requirement already satisfied: python-dateutil>=2.8.0 in /usr/local/lib/python3.12/dist-packages (from qiskit-aer) (2.9.0.post0)\n",
            "Requirement already satisfied: six>=1.5 in /usr/local/lib/python3.12/dist-packages (from python-dateutil>=2.8.0->qiskit-aer) (1.17.0)\n"
          ]
        }
      ]
    },
    {
      "cell_type": "code",
      "source": [
        "# Original: X → H → S → T → Rz(0.5)\n",
        "qc1 = QuantumCircuit(1, 1)\n",
        "qc1.x(0)\n",
        "qc1.h(0)\n",
        "qc1.s(0)\n",
        "qc1.t(0)\n",
        "qc1.rz(0.5, 0)\n",
        "qc1.measure_all()\n",
        "\n",
        "print(\"Original Circuit:\")\n",
        "print(qc1.draw())\n",
        "\n",
        "compiled = transpile(qc1, sim)\n",
        "result1 = sim.run(compiled, shots=1024).result()\n",
        "counts1 = result1.get_counts()\n",
        "print(\"\\nMeasurement Counts:\", counts1)\n"
      ],
      "metadata": {
        "colab": {
          "base_uri": "https://localhost:8080/"
        },
        "id": "BKfEujvR6lYN",
        "outputId": "51f170fa-18cc-4f19-eb98-cd1ec9ee96d2"
      },
      "execution_count": 4,
      "outputs": [
        {
          "output_type": "stream",
          "name": "stdout",
          "text": [
            "Original Circuit:\n",
            "        ┌───┐┌───┐┌───┐┌───┐┌─────────┐ ░ ┌─┐\n",
            "     q: ┤ X ├┤ H ├┤ S ├┤ T ├┤ Rz(0.5) ├─░─┤M├\n",
            "        └───┘└───┘└───┘└───┘└─────────┘ ░ └╥┘\n",
            "   c: 1/═══════════════════════════════════╬═\n",
            "                                           ║ \n",
            "meas: 1/═══════════════════════════════════╩═\n",
            "                                           0 \n",
            "\n",
            "Measurement Counts: {'1 0': 508, '0 0': 516}\n"
          ]
        }
      ]
    },
    {
      "cell_type": "code",
      "source": [
        "# Swapped: H → X → S → T → Rz(0.5)\n",
        "qc2 = QuantumCircuit(1, 1)\n",
        "qc2.h(0)\n",
        "qc2.x(0)\n",
        "qc2.s(0)\n",
        "qc2.t(0)\n",
        "qc2.rz(0.5, 0)\n",
        "qc2.measure_all()\n",
        "\n",
        "print(\"Swapped Circuit:\")\n",
        "print(qc2.draw())\n",
        "\n",
        "compiled = transpile(qc2, sim)\n",
        "result2 = sim.run(compiled, shots=1024).result()\n",
        "counts2 = result2.get_counts()\n",
        "print(\"\\nMeasurement Counts (Swapped):\", counts2)\n"
      ],
      "metadata": {
        "colab": {
          "base_uri": "https://localhost:8080/"
        },
        "id": "cn2XOFwf6lVZ",
        "outputId": "eca751ce-5209-428c-a7e9-dd5810c8eb22"
      },
      "execution_count": 5,
      "outputs": [
        {
          "output_type": "stream",
          "name": "stdout",
          "text": [
            "Swapped Circuit:\n",
            "        ┌───┐┌───┐┌───┐┌───┐┌─────────┐ ░ ┌─┐\n",
            "     q: ┤ H ├┤ X ├┤ S ├┤ T ├┤ Rz(0.5) ├─░─┤M├\n",
            "        └───┘└───┘└───┘└───┘└─────────┘ ░ └╥┘\n",
            "   c: 1/═══════════════════════════════════╬═\n",
            "                                           ║ \n",
            "meas: 1/═══════════════════════════════════╩═\n",
            "                                           0 \n",
            "\n",
            "Measurement Counts (Swapped): {'1 0': 536, '0 0': 488}\n"
          ]
        }
      ]
    },
    {
      "cell_type": "code",
      "source": [
        "angles = [pi/4, pi/2, pi]\n",
        "results = {}\n",
        "\n",
        "for theta in angles:\n",
        "    qc = QuantumCircuit(1, 1)\n",
        "    qc.x(0)\n",
        "    qc.h(0)\n",
        "    qc.s(0)\n",
        "    qc.t(0)\n",
        "    qc.rz(theta, 0)\n",
        "    qc.measure_all()\n",
        "\n",
        "    compiled = transpile(qc, sim)\n",
        "    result = sim.run(compiled, shots=1024).result()\n",
        "    counts = result.get_counts()\n",
        "    results[theta] = counts\n",
        "\n",
        "for theta, counts in results.items():\n",
        "    print(f\"\\nRotation Angle θ = {theta:.2f} radians\")\n",
        "    print(\"Measurement Counts:\", counts)\n"
      ],
      "metadata": {
        "colab": {
          "base_uri": "https://localhost:8080/"
        },
        "id": "dkBYMlaZ6lS_",
        "outputId": "ba599625-4bab-43b2-c080-5cbba674ee43"
      },
      "execution_count": 6,
      "outputs": [
        {
          "output_type": "stream",
          "name": "stdout",
          "text": [
            "\n",
            "Rotation Angle θ = 0.79 radians\n",
            "Measurement Counts: {'0 0': 501, '1 0': 523}\n",
            "\n",
            "Rotation Angle θ = 1.57 radians\n",
            "Measurement Counts: {'0 0': 513, '1 0': 511}\n",
            "\n",
            "Rotation Angle θ = 3.14 radians\n",
            "Measurement Counts: {'0 0': 519, '1 0': 505}\n"
          ]
        }
      ]
    },
    {
      "cell_type": "code",
      "source": [
        "# Remove H gate\n",
        "qc3 = QuantumCircuit(1, 1)\n",
        "qc3.x(0)\n",
        "# qc3.h(0)  <-- Removed\n",
        "qc3.s(0)\n",
        "qc3.t(0)\n",
        "qc3.rz(0.5, 0)\n",
        "qc3.measure_all()\n",
        "\n",
        "print(\"Circuit without Hadamard:\")\n",
        "print(qc3.draw())\n",
        "\n",
        "compiled = transpile(qc3, sim)\n",
        "result3 = sim.run(compiled, shots=1024).result()\n",
        "counts3 = result3.get_counts()\n",
        "print(\"\\nMeasurement Counts (Without H):\", counts3)\n"
      ],
      "metadata": {
        "colab": {
          "base_uri": "https://localhost:8080/"
        },
        "id": "-EYW8xhn6xLF",
        "outputId": "a94e181b-8dc8-4955-ec45-49b599b4d647"
      },
      "execution_count": 7,
      "outputs": [
        {
          "output_type": "stream",
          "name": "stdout",
          "text": [
            "Circuit without Hadamard:\n",
            "        ┌───┐┌───┐┌───┐┌─────────┐ ░ ┌─┐\n",
            "     q: ┤ X ├┤ S ├┤ T ├┤ Rz(0.5) ├─░─┤M├\n",
            "        └───┘└───┘└───┘└─────────┘ ░ └╥┘\n",
            "   c: 1/══════════════════════════════╬═\n",
            "                                      ║ \n",
            "meas: 1/══════════════════════════════╩═\n",
            "                                      0 \n",
            "\n",
            "Measurement Counts (Without H): {'1 0': 1024}\n"
          ]
        }
      ]
    }
  ]
}